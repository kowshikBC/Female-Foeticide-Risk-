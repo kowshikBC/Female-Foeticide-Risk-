{
 "cells": [
  {
   "cell_type": "code",
   "execution_count": null,
   "id": "a1a9dc04",
   "metadata": {},
   "outputs": [],
   "source": []
  },
  {
   "cell_type": "code",
   "execution_count": 3,
   "id": "c33e54d4",
   "metadata": {},
   "outputs": [],
   "source": [
    "import os\n",
    "import warnings\n",
    "warnings.filterwarnings(\"ignore\")"
   ]
  },
  {
   "cell_type": "code",
   "execution_count": 4,
   "id": "cc84d694",
   "metadata": {},
   "outputs": [],
   "source": [
    "import numpy as np\n",
    "import pandas as pd\n",
    "from sklearn.model_selection import train_test_split, cross_val_score, RandomizedSearchCV, GridSearchCV, StratifiedKFold\n",
    "from sklearn.impute import SimpleImputer\n",
    "from sklearn.preprocessing import OneHotEncoder, StandardScaler, OrdinalEncoder\n",
    "from sklearn.compose import ColumnTransformer\n",
    "from sklearn.pipeline import Pipeline\n",
    "from sklearn.metrics import classification_report, f1_score, confusion_matrix, accuracy_score\n",
    "from sklearn.linear_model import LogisticRegression\n",
    "from sklearn.ensemble import RandomForestClassifier\n",
    "from sklearn.dummy import DummyClassifier\n",
    "import joblib\n",
    "import matplotlib.pyplot as plt\n",
    "import seaborn as sns\n",
    "sns.set(style=\"whitegrid\")"
   ]
  },
  {
   "cell_type": "code",
   "execution_count": 5,
   "id": "c288df1d",
   "metadata": {},
   "outputs": [],
   "source": [
    "RANDOM_SEED = 42"
   ]
  },
  {
   "cell_type": "code",
   "execution_count": 6,
   "id": "ee6031c8",
   "metadata": {},
   "outputs": [
    {
     "name": "stdout",
     "output_type": "stream",
     "text": [
      "Loaded data shape: (1000, 13)\n",
      "Columns: ['district_name', 'state', 'literacy_rate_female', 'literacy_rate_male', 'sex_ratio', 'avg_household_income', 'poverty_index', 'education_expenditure_per_capita', 'female_infant_mortality_rate', 'access_to_health_facilities', 'employment_rate_female', 'social_awareness_programs', 'risk_level']\n"
     ]
    }
   ],
   "source": [
    "# 1) Load dataset\n",
    "csv_path = r\"c:\\Users\\koushik toni\\Downloads\\New folder\\female_foeticide_risk.csv\"\n",
    "df = pd.read_csv(csv_path)\n",
    "print(\"Loaded data shape:\", df.shape)\n",
    "print(\"Columns:\", df.columns.tolist())"
   ]
  },
  {
   "cell_type": "code",
   "execution_count": 7,
   "id": "e4fff4b7",
   "metadata": {},
   "outputs": [
    {
     "name": "stdout",
     "output_type": "stream",
     "text": [
      "\n",
      "Sample rows:\n",
      "  district_name      state  literacy_rate_female  literacy_rate_male  \\\n",
      "0     Darbhanga      Bihar                 66.73               75.26   \n",
      "1     Bharatpur  Rajasthan                 81.35               77.90   \n",
      "2         Patna      Bihar                 65.37               85.05   \n",
      "3     Bhavnagar    Gujarat                 56.16               84.49   \n",
      "4      Junagadh    Gujarat                 53.57               89.31   \n",
      "\n",
      "   sex_ratio  avg_household_income  poverty_index  \\\n",
      "0      892.0               26906.0          0.524   \n",
      "1      851.0               18326.0          0.352   \n",
      "2      871.0               20108.0          0.332   \n",
      "3      968.0               26189.0          0.397   \n",
      "4      933.0               26398.0          0.906   \n",
      "\n",
      "   education_expenditure_per_capita  female_infant_mortality_rate  \\\n",
      "0                            3769.2                          28.2   \n",
      "1                            1203.2                          23.2   \n",
      "2                            2712.6                          36.5   \n",
      "3                            2345.1                          20.3   \n",
      "4                            1950.9                          28.7   \n",
      "\n",
      "   access_to_health_facilities  employment_rate_female  \\\n",
      "0                         63.3                    44.9   \n",
      "1                         86.2                    56.2   \n",
      "2                         39.8                    33.8   \n",
      "3                         82.2                    52.7   \n",
      "4                         62.4                    36.7   \n",
      "\n",
      "   social_awareness_programs risk_level  \n",
      "0                        3.0     Medium  \n",
      "1                       16.0     Medium  \n",
      "2                       16.0     Medium  \n",
      "3                        1.0     Medium  \n",
      "4                       17.0       High  \n",
      "\n",
      "Target distribution:\n",
      "Low       334\n",
      "Medium    333\n",
      "High      333\n",
      "Name: risk_level, dtype: int64\n"
     ]
    }
   ],
   "source": [
    "# 2) Quick inspection\n",
    "print(\"\\nSample rows:\")\n",
    "print(df.head(5))\n",
    "print(\"\\nTarget distribution:\")\n",
    "print(df['risk_level'].value_counts(dropna=False))\n"
   ]
  },
  {
   "cell_type": "code",
   "execution_count": 8,
   "id": "114fc898",
   "metadata": {},
   "outputs": [],
   "source": [
    "# 3) Basic cleaning\n",
    "# Trim string columns, consistent column names\n",
    "df.columns = [c.strip() for c in df.columns]\n",
    "str_cols = df.select_dtypes(include=['object']).columns.tolist()\n",
    "for c in str_cols:\n",
    "    df[c] = df[c].astype(str).str.strip().replace({'nan':'', 'None':''})\n"
   ]
  },
  {
   "cell_type": "code",
   "execution_count": 9,
   "id": "1da2161f",
   "metadata": {},
   "outputs": [],
   "source": [
    "# Replace empty strings with NaN for missing detection\n",
    "df = df.replace({'': np.nan, 'NA': np.nan, 'nan': np.nan})\n"
   ]
  },
  {
   "cell_type": "code",
   "execution_count": 10,
   "id": "6e1bbb0a",
   "metadata": {},
   "outputs": [],
   "source": [
    "# Convert numeric columns to proper dtypes\n",
    "num_cols = [\n",
    "    'literacy_rate_female','literacy_rate_male','sex_ratio','avg_household_income',\n",
    "    'poverty_index','education_expenditure_per_capita','female_infant_mortality_rate',\n",
    "    'access_to_health_facilities','employment_rate_female','social_awareness_programs'\n",
    "]\n",
    "for c in num_cols:\n",
    "    df[c] = pd.to_numeric(df[c], errors='coerce')\n"
   ]
  },
  {
   "cell_type": "code",
   "execution_count": 11,
   "id": "72ff0c17",
   "metadata": {},
   "outputs": [
    {
     "name": "stdout",
     "output_type": "stream",
     "text": [
      "\n",
      "Missing per column:\n",
      "literacy_rate_male                  21\n",
      "district_name                       16\n",
      "poverty_index                       13\n",
      "employment_rate_female              11\n",
      "state                               10\n",
      "literacy_rate_female                10\n",
      "education_expenditure_per_capita     9\n",
      "social_awareness_programs            9\n",
      "access_to_health_facilities          8\n",
      "sex_ratio                            7\n",
      "avg_household_income                 7\n",
      "female_infant_mortality_rate         5\n",
      "risk_level                           0\n",
      "dtype: int64\n"
     ]
    }
   ],
   "source": [
    "# Standardize target\n",
    "df['risk_level'] = df['risk_level'].astype(str).str.strip().replace({'nan': np.nan})\n",
    "print(\"\\nMissing per column:\")\n",
    "print(df.isna().sum().sort_values(ascending=False).head(20))\n"
   ]
  },
  {
   "cell_type": "code",
   "execution_count": 12,
   "id": "7e99d7db",
   "metadata": {},
   "outputs": [],
   "source": [
    "# 4) Feature engineering (simple, interpretable)\n",
    "# literacy gap\n",
    "df['literacy_gap'] = df['literacy_rate_male'] - df['literacy_rate_female']\n",
    "# income per poverty (interaction)\n",
    "df['income_poverty'] = df['avg_household_income'] * (1 - df['poverty_index'])\n"
   ]
  },
  {
   "cell_type": "code",
   "execution_count": 13,
   "id": "ac25cae0",
   "metadata": {},
   "outputs": [],
   "source": [
    "# Fill district_name/state missing to avoid issues in encoding\n",
    "df['district_name'] = df['district_name'].fillna('Unknown')\n",
    "df['state'] = df['state'].fillna('Unknown')\n"
   ]
  },
  {
   "cell_type": "code",
   "execution_count": 14,
   "id": "bbb3ba2b",
   "metadata": {},
   "outputs": [],
   "source": [
    "# 5) Prepare X and y\n",
    "target = 'risk_level'\n",
    "df = df.dropna(subset=[target])  # drop rows where target missing\n",
    "X = df.drop(columns=[target])\n",
    "y = df[target].astype(str)\n"
   ]
  },
  {
   "cell_type": "code",
   "execution_count": 15,
   "id": "c874f06d",
   "metadata": {},
   "outputs": [
    {
     "name": "stdout",
     "output_type": "stream",
     "text": [
      "\n",
      "Final target counts:\n",
      "Low       334\n",
      "Medium    333\n",
      "High      333\n",
      "Name: risk_level, dtype: int64\n"
     ]
    }
   ],
   "source": [
    "# Keep class labels consistent (Low, Medium, High)\n",
    "y = y.replace({'low':'Low','Low':'Low','LOW':'Low',\n",
    "               'medium':'Medium','Medium':'Medium','MEDIUM':'Medium',\n",
    "               'high':'High','High':'High','HIGH':'High'})\n",
    "\n",
    "print(\"\\nFinal target counts:\")\n",
    "print(y.value_counts())\n"
   ]
  },
  {
   "cell_type": "code",
   "execution_count": 16,
   "id": "57b77ad8",
   "metadata": {},
   "outputs": [
    {
     "name": "stdout",
     "output_type": "stream",
     "text": [
      "\n",
      "Train / Test shapes: (800, 14) (200, 14)\n"
     ]
    }
   ],
   "source": [
    "# 6) Train/test split (stratified)\n",
    "X_train, X_test, y_train, y_test = train_test_split(\n",
    "    X, y, test_size=0.20, random_state=RANDOM_SEED, stratify=y\n",
    ")\n",
    "print(\"\\nTrain / Test shapes:\", X_train.shape, X_test.shape)\n"
   ]
  },
  {
   "cell_type": "code",
   "execution_count": 17,
   "id": "50c88c62",
   "metadata": {},
   "outputs": [],
   "source": [
    "# 7) Preprocessing pipeline\n",
    "numeric_features = [\n",
    "    'literacy_rate_female','literacy_rate_male','literacy_gap','sex_ratio',\n",
    "    'avg_household_income','poverty_index','education_expenditure_per_capita',\n",
    "    'female_infant_mortality_rate','access_to_health_facilities',\n",
    "    'employment_rate_female','social_awareness_programs','income_poverty'\n",
    "]"
   ]
  },
  {
   "cell_type": "code",
   "execution_count": 18,
   "id": "c49e579e",
   "metadata": {},
   "outputs": [],
   "source": [
    "# Keep categorical features: state (one-hot). district_name is high-cardinality -> encode as 'freq' or drop\n",
    "categorical_features = ['state']\n",
    "# District name: convert to frequency encoding to keep info but avoid too many columns\n",
    "# Implement frequency encoding separately\n",
    "for col in ['district_name']:\n",
    "    freq = X_train[col].value_counts(normalize=True)\n",
    "    X_train[f'{col}_freq'] = X_train[col].map(freq).fillna(0.0)\n",
    "    X_test[f'{col}_freq'] = X_test[col].map(freq).fillna(0.0)\n",
    "    numeric_features.append(f'{col}_freq')\n"
   ]
  },
  {
   "cell_type": "code",
   "execution_count": 19,
   "id": "ab9ea1fa",
   "metadata": {},
   "outputs": [],
   "source": [
    "# Build transformers\n",
    "numeric_transformer = Pipeline(steps=[\n",
    "    ('imputer', SimpleImputer(strategy='median')),\n",
    "    ('scaler', StandardScaler())\n",
    "])\n",
    "categorical_transformer = Pipeline(steps=[\n",
    "    ('imputer', SimpleImputer(strategy='constant', fill_value='Unknown')),\n",
    "    ('onehot', OneHotEncoder(handle_unknown='ignore', sparse=False))\n",
    "])\n",
    "\n",
    "preprocessor = ColumnTransformer(transformers=[\n",
    "    ('num', numeric_transformer, numeric_features),\n",
    "    ('cat', categorical_transformer, categorical_features)\n",
    "], remainder='drop', verbose_feature_names_out=False)\n"
   ]
  },
  {
   "cell_type": "code",
   "execution_count": 20,
   "id": "70157e89",
   "metadata": {},
   "outputs": [],
   "source": [
    "# 8) Baseline models in pipelines\n",
    "def build_pipeline(model):\n",
    "    return Pipeline(steps=[\n",
    "        ('preprocessor', preprocessor),\n",
    "        ('classifier', model)\n",
    "    ])\n",
    "\n",
    "models = {\n",
    "    'Dummy': DummyClassifier(strategy='most_frequent'),\n",
    "    'Logistic': LogisticRegression(max_iter=2000, class_weight='balanced', random_state=RANDOM_SEED),\n",
    "    'RandomForest': RandomForestClassifier(n_estimators=200, random_state=RANDOM_SEED, class_weight='balanced')\n",
    "}\n"
   ]
  },
  {
   "cell_type": "code",
   "execution_count": 21,
   "id": "14abe84d",
   "metadata": {},
   "outputs": [
    {
     "name": "stdout",
     "output_type": "stream",
     "text": [
      "\n",
      "Training & CV for: Dummy\n",
      "Dummy CV macro-F1: 0.1659 ± 0.0000\n",
      "\n",
      "Training & CV for: Logistic\n",
      "Logistic CV macro-F1: 0.8883 ± 0.0171\n",
      "\n",
      "Training & CV for: RandomForest\n",
      "RandomForest CV macro-F1: 0.8495 ± 0.0139\n"
     ]
    }
   ],
   "source": [
    "results = {}\n",
    "for name, clf in models.items():\n",
    "    pipe = build_pipeline(clf)\n",
    "    print(f\"\\nTraining & CV for: {name}\")\n",
    "    scores = cross_val_score(pipe, X_train, y_train, cv=cv, scoring='f1_macro', n_jobs=-1)\n",
    "    print(f\"{name} CV macro-F1: {scores.mean():.4f} ± {scores.std():.4f}\")\n",
    "    results[name] = scores.mean()\n"
   ]
  },
  {
   "cell_type": "code",
   "execution_count": 22,
   "id": "d2dbcaa9",
   "metadata": {},
   "outputs": [
    {
     "name": "stdout",
     "output_type": "stream",
     "text": [
      "\n",
      "Best baseline by CV macro-F1: Logistic\n"
     ]
    }
   ],
   "source": [
    "# 10) Fit best baseline (RandomForest) and evaluate on test set\n",
    "best_name = max(results, key=results.get)\n",
    "print(\"\\nBest baseline by CV macro-F1:\", best_name)\n",
    "best_pipe = build_pipeline(models[best_name])\n",
    "best_pipe.fit(X_train, y_train)\n",
    "y_pred = best_pipe.predict(X_test)\n"
   ]
  },
  {
   "cell_type": "code",
   "execution_count": 23,
   "id": "36e3bfa0",
   "metadata": {},
   "outputs": [
    {
     "name": "stdout",
     "output_type": "stream",
     "text": [
      "\n",
      "Test set evaluation (baseline):\n",
      "              precision    recall  f1-score   support\n",
      "\n",
      "        High     0.9118    0.9254    0.9185        67\n",
      "         Low     0.9385    0.9104    0.9242        67\n",
      "      Medium     0.8358    0.8485    0.8421        66\n",
      "\n",
      "    accuracy                         0.8950       200\n",
      "   macro avg     0.8953    0.8948    0.8950       200\n",
      "weighted avg     0.8956    0.8950    0.8952       200\n",
      "\n",
      "Macro F1: 0.8949554019729459\n",
      "Accuracy: 0.895\n"
     ]
    }
   ],
   "source": [
    "print(\"\\nTest set evaluation (baseline):\")\n",
    "print(classification_report(y_test, y_pred, digits=4))\n",
    "print(\"Macro F1:\", f1_score(y_test, y_pred, average='macro'))\n",
    "print(\"Accuracy:\", accuracy_score(y_test, y_pred))\n"
   ]
  },
  {
   "cell_type": "code",
   "execution_count": 24,
   "id": "b62a39af",
   "metadata": {},
   "outputs": [
    {
     "name": "stdout",
     "output_type": "stream",
     "text": [
      "Fitting 5 folds for each of 12 candidates, totalling 60 fits\n",
      "\n",
      "RandomForest best params: {'classifier__n_estimators': 100, 'classifier__min_samples_split': 2, 'classifier__min_samples_leaf': 1, 'classifier__max_depth': 30}\n",
      "RandomForest best CV f1_macro: 0.8557347923449117\n"
     ]
    }
   ],
   "source": [
    "# 11) Hyperparameter tuning (RandomizedSearchCV) for RandomForest and Logistic (example)\n",
    "param_dist_rf = {\n",
    "    'classifier__n_estimators': [100, 200, 400],\n",
    "    'classifier__max_depth': [None, 10, 20, 30],\n",
    "    'classifier__min_samples_split': [2, 5, 10],\n",
    "    'classifier__min_samples_leaf': [1, 2, 4]\n",
    "}\n",
    "rf_pipe = build_pipeline(RandomForestClassifier(random_state=RANDOM_SEED, class_weight='balanced'))\n",
    "\n",
    "rs_rf = RandomizedSearchCV(\n",
    "    rf_pipe, param_dist_rf, n_iter=12, scoring='f1_macro',\n",
    "    cv=cv, random_state=RANDOM_SEED, n_jobs=-1, verbose=1\n",
    ")\n",
    "rs_rf.fit(X_train, y_train)\n",
    "print(\"\\nRandomForest best params:\", rs_rf.best_params_)\n",
    "print(\"RandomForest best CV f1_macro:\", rs_rf.best_score_)\n"
   ]
  },
  {
   "cell_type": "code",
   "execution_count": 25,
   "id": "ce5db5ed",
   "metadata": {},
   "outputs": [
    {
     "name": "stdout",
     "output_type": "stream",
     "text": [
      "Fitting 5 folds for each of 6 candidates, totalling 30 fits\n",
      "\n",
      "LightGBM best CV f1_macro: 0.8475528394951105\n"
     ]
    }
   ],
   "source": [
    "# 12) LightGBM (optional, faster). If not installed, will skip\n",
    "use_lgb = False\n",
    "try:\n",
    "    import lightgbm as lgb\n",
    "    use_lgb = True\n",
    "except Exception:\n",
    "    use_lgb = False\n",
    "\n",
    "if use_lgb:\n",
    "    lgb_pipe = build_pipeline(lgb.LGBMClassifier(random_state=RANDOM_SEED, class_weight='balanced'))\n",
    "    lgb_params = {\n",
    "        'classifier__n_estimators': [100, 300],\n",
    "        'classifier__max_depth': [-1, 10, 20],\n",
    "        'classifier__learning_rate': [0.01, 0.05, 0.1]\n",
    "    }\n",
    "    rs_lgb = RandomizedSearchCV(lgb_pipe, lgb_params, n_iter=6, scoring='f1_macro', cv=cv, n_jobs=-1, random_state=RANDOM_SEED, verbose=1)\n",
    "    rs_lgb.fit(X_train, y_train)\n",
    "    print(\"\\nLightGBM best CV f1_macro:\", rs_lgb.best_score_)\n"
   ]
  },
  {
   "cell_type": "code",
   "execution_count": 26,
   "id": "2e0ca874",
   "metadata": {},
   "outputs": [
    {
     "name": "stdout",
     "output_type": "stream",
     "text": [
      "\n",
      "Tuned RandomForest test evaluation:\n",
      "              precision    recall  f1-score   support\n",
      "\n",
      "        High     0.8906    0.8507    0.8702        67\n",
      "         Low     0.9394    0.9254    0.9323        67\n",
      "      Medium     0.7857    0.8333    0.8088        66\n",
      "\n",
      "    accuracy                         0.8700       200\n",
      "   macro avg     0.8719    0.8698    0.8705       200\n",
      "weighted avg     0.8723    0.8700    0.8708       200\n",
      "\n",
      "Macro F1: 0.8704611213710072\n"
     ]
    }
   ],
   "source": [
    "# 13) Evaluate tuned RF on test\n",
    "best_rf = rs_rf.best_estimator_ if 'rs_rf' in locals() else rs_rf\n",
    "y_pred_rf = rs_rf.predict(X_test)\n",
    "print(\"\\nTuned RandomForest test evaluation:\")\n",
    "print(classification_report(y_test, y_pred_rf, digits=4))\n",
    "print(\"Macro F1:\", f1_score(y_test, y_pred_rf, average='macro'))\n"
   ]
  },
  {
   "cell_type": "code",
   "execution_count": 27,
   "id": "be871b53",
   "metadata": {},
   "outputs": [
    {
     "name": "stdout",
     "output_type": "stream",
     "text": [
      "\n",
      "Top feature importances (RandomForest):\n",
      "poverty_index                       0.349068\n",
      "income_poverty                      0.237636\n",
      "literacy_rate_female                0.059478\n",
      "literacy_gap                        0.047118\n",
      "avg_household_income                0.042630\n",
      "sex_ratio                           0.036311\n",
      "literacy_rate_male                  0.032347\n",
      "employment_rate_female              0.032173\n",
      "access_to_health_facilities         0.030710\n",
      "female_infant_mortality_rate        0.028885\n",
      "education_expenditure_per_capita    0.027113\n",
      "social_awareness_programs           0.025445\n",
      "district_name_freq                  0.017869\n",
      "state_Maharashtra                   0.003983\n",
      "state_Odisha                        0.003740\n",
      "state_Gujarat                       0.003716\n",
      "state_Haryana                       0.003703\n",
      "state_Madhya Pradesh                0.003439\n",
      "state_Rajasthan                     0.003156\n",
      "state_West Bengal                   0.003099\n",
      "state_Punjab                        0.002902\n",
      "state_Uttar Pradesh                 0.002563\n",
      "state_Bihar                         0.002182\n",
      "state_Unknown                       0.000735\n",
      "dtype: float64\n"
     ]
    }
   ],
   "source": [
    "# 14) Feature importance (from RandomForest)\n",
    "# We need to get feature names from preprocessor\n",
    "feature_names_num = numeric_features\n",
    "# get onehot categories\n",
    "ohe = rs_rf.best_estimator_.named_steps['preprocessor'].transformers_[1][1].named_steps['onehot']\n",
    "ohe_cols = []\n",
    "try:\n",
    "    ohe_cols = list(ohe.get_feature_names_out(categorical_features))\n",
    "except Exception:\n",
    "    ohe_cols = []\n",
    "feature_names = feature_names_num + ohe_cols\n",
    "\n",
    "rf_model = rs_rf.best_estimator_.named_steps['classifier']\n",
    "importances = rf_model.feature_importances_\n",
    "feat_imp = pd.Series(importances, index=feature_names).sort_values(ascending=False).head(30)\n",
    "print(\"\\nTop feature importances (RandomForest):\")\n",
    "print(feat_imp)\n"
   ]
  },
  {
   "cell_type": "code",
   "execution_count": 28,
   "id": "c750b9a1",
   "metadata": {},
   "outputs": [
    {
     "data": {
      "image/png": "[encoded data removed]",
      "text/plain": [
       "<Figure size 800x600 with 1 Axes>"
      ]
     },
     "metadata": {},
     "output_type": "display_data"
    }
   ],
   "source": [
    "# Plot top features\n",
    "plt.figure(figsize=(8,6))\n",
    "sns.barplot(x=feat_imp.values, y=feat_imp.index)\n",
    "plt.title(\"Top feature importances (RandomForest)\")\n",
    "plt.tight_layout()\n",
    "plt.savefig(\"feature_importances_rf.png\", dpi=150)\n"
   ]
  },
  {
   "cell_type": "code",
   "execution_count": 29,
   "id": "9f04bbf1",
   "metadata": {},
   "outputs": [
    {
     "name": "stdout",
     "output_type": "stream",
     "text": [
      "\n",
      "Saved tuned RandomForest pipeline to: C:\\Users\\koushik toni\\final_model_rf.joblib\n",
      "Saved test predictions to test_predictions.csv\n"
     ]
    }
   ],
   "source": [
    "# 15) Save final model and test predictions\n",
    "out_model_path = os.path.join(os.getcwd(), \"final_model_rf.joblib\")\n",
    "joblib.dump(rs_rf.best_estimator_, out_model_path)\n",
    "print(\"\\nSaved tuned RandomForest pipeline to:\", out_model_path)\n",
    "\n",
    "pred_df = X_test.copy()\n",
    "pred_df['true_risk'] = y_test\n",
    "pred_df['predicted_risk'] = y_pred_rf\n",
    "pred_df.to_csv(\"test_predictions.csv\", index=False)\n",
    "print(\"Saved test predictions to test_predictions.csv\")\n"
   ]
  },
  {
   "cell_type": "raw",
   "id": "00d342f6",
   "metadata": {},
   "source": [
    "Cleaning: median imputer for numerics, frequency encoding for district, one-hot for state.\n",
    "Models tried: Dummy, Logistic Regression (class_weight balanced), RandomForest. (LightGBM if available).\n",
    "Evaluation: Macro-F1 used. Tuned RandomForest with RandomizedSearchCV performed best on CV.\n",
    "Artifacts saved: final_model_rf.joblib, test_predictions.csv, feature_importances_rf.png"
   ]
  },
  {
   "cell_type": "code",
   "execution_count": 31,
   "id": "5d7e85d8",
   "metadata": {},
   "outputs": [
    {
     "data": {
      "text/plain": [
       "'C:\\\\Users\\\\koushik toni'"
      ]
     },
     "execution_count": 31,
     "metadata": {},
     "output_type": "execute_result"
    }
   ],
   "source": [
    "pwd"
   ]
  },
  {
   "cell_type": "code",
   "execution_count": null,
   "id": "ff6c6ba7",
   "metadata": {},
   "outputs": [],
   "source": []
  }
 ],
 "metadata": {
  "kernelspec": {
   "display_name": "Python 3 (ipykernel)",
   "language": "python",
   "name": "python3"
  },
  "language_info": {
   "codemirror_mode": {
    "name": "ipython",
    "version": 3
   },
   "file_extension": ".py",
   "mimetype": "text/x-python",
   "name": "python",
   "nbconvert_exporter": "python",
   "pygments_lexer": "ipython3",
   "version": "3.10.9"
  }
 },
 "nbformat": 4,
 "nbformat_minor": 5
}
